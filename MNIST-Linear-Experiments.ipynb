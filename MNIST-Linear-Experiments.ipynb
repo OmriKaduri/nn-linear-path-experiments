{
 "cells": [
  {
   "cell_type": "code",
   "execution_count": 1,
   "id": "better-orchestra",
   "metadata": {},
   "outputs": [],
   "source": [
    "import torch\n",
    "import torch.nn as nn \n",
    "import torchvision\n",
    "import torchvision.transforms as transforms\n",
    "import matplotlib.pyplot as plt "
   ]
  },
  {
   "cell_type": "code",
   "execution_count": 2,
   "id": "ceramic-settle",
   "metadata": {},
   "outputs": [],
   "source": [
    "input_size = 784 # 28x28\n",
    "hidden_sizes = [500,300] \n",
    "num_classes = 10\n",
    "num_epochs = 5\n",
    "batch_size = 100\n",
    "learning_rate = 0.001 "
   ]
  },
  {
   "cell_type": "code",
   "execution_count": 3,
   "id": "tropical-lounge",
   "metadata": {},
   "outputs": [],
   "source": [
    "# Import MNIST dataset \n",
    "train_dataset = torchvision.datasets.MNIST(root='./data', \n",
    "                                        train=True, \n",
    "                                   transform=transforms.ToTensor(),  \n",
    "                                       download=True)\n",
    "test_dataset = torchvision.datasets.MNIST(root='./data', \n",
    "                                       train=False, \n",
    "                                       transform=transforms.ToTensor()) "
   ]
  },
  {
   "cell_type": "code",
   "execution_count": 4,
   "id": "compound-spray",
   "metadata": {},
   "outputs": [],
   "source": [
    "# Data loader\n",
    "train_loader = torch.utils.data.DataLoader(dataset=train_dataset, \n",
    "                                        batch_size=batch_size, \n",
    "                                        shuffle=True)\n",
    "test_loader = torch.utils.data.DataLoader(dataset=test_dataset, \n",
    "                                       batch_size=batch_size, \n",
    "                                       shuffle=False) "
   ]
  },
  {
   "cell_type": "code",
   "execution_count": 5,
   "id": "exterior-welcome",
   "metadata": {},
   "outputs": [
    {
     "data": {
      "image/png": "[encoded data removed]",
      "text/plain": [
       "<Figure size 432x288 with 6 Axes>"
      ]
     },
     "metadata": {
      "needs_background": "light"
     },
     "output_type": "display_data"
    }
   ],
   "source": [
    "examples = iter(test_loader)\n",
    "example_data, example_targets = examples.next()\n",
    "for i in range(6):\n",
    "    plt.subplot(2,3,i+1)\n",
    "    plt.imshow(example_data[i][0], cmap='gray')\n",
    "plt.show() "
   ]
  },
  {
   "cell_type": "code",
   "execution_count": 17,
   "id": "indoor-custom",
   "metadata": {},
   "outputs": [],
   "source": [
    "class NeuralNet(nn.Module):\n",
    "    def __init__(self, input_size, hidden_sizes, num_classes):\n",
    "        super(NeuralNet, self).__init__()\n",
    "        self.input_size = input_size\n",
    "        Ns = [*hidden_sizes]\n",
    "        Ns.insert(0,input_size)\n",
    "        hidden_layers = []\n",
    "        for i in range(len(Ns) - 1):\n",
    "            hidden_layers.append(nn.Linear(Ns[i], Ns[i + 1]))\n",
    "            hidden_layers.append(nn.ReLU())\n",
    "        self.layers = nn.Sequential(*hidden_layers)\n",
    "\n",
    "        self.l2 = nn.Linear(Ns[-1], num_classes)   \n",
    "    def forward(self, x):\n",
    "        out = self.layers(x)\n",
    "        out = self.l2(out)\n",
    "        return out "
   ]
  },
  {
   "cell_type": "code",
   "execution_count": 7,
   "id": "distributed-joyce",
   "metadata": {},
   "outputs": [],
   "source": [
    "device='cpu'\n",
    "model = NeuralNet(input_size, hidden_sizes, num_classes).to(device)\n",
    "import copy\n",
    "model_i = copy.deepcopy(model)\n",
    "\n"
   ]
  },
  {
   "cell_type": "code",
   "execution_count": 8,
   "id": "fixed-rolling",
   "metadata": {},
   "outputs": [],
   "source": [
    "criterion = nn.CrossEntropyLoss()\n",
    "optimizer = torch.optim.Adam(model.parameters(), lr=learning_rate) \n"
   ]
  },
  {
   "cell_type": "code",
   "execution_count": 9,
   "id": "hearing-subsection",
   "metadata": {},
   "outputs": [
    {
     "name": "stderr",
     "output_type": "stream",
     "text": [
      "/home/omri/anaconda3/envs/mc_docker/lib/python3.8/site-packages/torch/autograd/__init__.py:130: UserWarning: CUDA initialization: CUDA unknown error - this may be due to an incorrectly set up environment, e.g. changing env variable CUDA_VISIBLE_DEVICES after program start. Setting the available devices to be zero. (Triggered internally at  /pytorch/c10/cuda/CUDAFunctions.cpp:100.)\n",
      "  Variable._execution_engine.run_backward(\n"
     ]
    },
    {
     "name": "stdout",
     "output_type": "stream",
     "text": [
      "Epoch [1/5], Step[100/600], Loss: 0.5035\n",
      "Epoch [1/5], Step[200/600], Loss: 0.3764\n",
      "Epoch [1/5], Step[300/600], Loss: 0.2464\n",
      "Epoch [1/5], Step[400/600], Loss: 0.1450\n",
      "Epoch [1/5], Step[500/600], Loss: 0.1893\n",
      "Epoch [1/5], Step[600/600], Loss: 0.2311\n",
      "Epoch [2/5], Step[100/600], Loss: 0.0959\n",
      "Epoch [2/5], Step[200/600], Loss: 0.0693\n",
      "Epoch [2/5], Step[300/600], Loss: 0.1453\n",
      "Epoch [2/5], Step[400/600], Loss: 0.2012\n",
      "Epoch [2/5], Step[500/600], Loss: 0.0913\n",
      "Epoch [2/5], Step[600/600], Loss: 0.0338\n",
      "Epoch [3/5], Step[100/600], Loss: 0.0551\n",
      "Epoch [3/5], Step[200/600], Loss: 0.0283\n",
      "Epoch [3/5], Step[300/600], Loss: 0.0242\n",
      "Epoch [3/5], Step[400/600], Loss: 0.0421\n",
      "Epoch [3/5], Step[500/600], Loss: 0.0458\n",
      "Epoch [3/5], Step[600/600], Loss: 0.0774\n",
      "Epoch [4/5], Step[100/600], Loss: 0.0459\n",
      "Epoch [4/5], Step[200/600], Loss: 0.0030\n",
      "Epoch [4/5], Step[300/600], Loss: 0.0155\n",
      "Epoch [4/5], Step[400/600], Loss: 0.0688\n",
      "Epoch [4/5], Step[500/600], Loss: 0.0411\n",
      "Epoch [4/5], Step[600/600], Loss: 0.0441\n",
      "Epoch [5/5], Step[100/600], Loss: 0.0485\n",
      "Epoch [5/5], Step[200/600], Loss: 0.0513\n",
      "Epoch [5/5], Step[300/600], Loss: 0.0044\n",
      "Epoch [5/5], Step[400/600], Loss: 0.0058\n",
      "Epoch [5/5], Step[500/600], Loss: 0.0054\n",
      "Epoch [5/5], Step[600/600], Loss: 0.0188\n"
     ]
    }
   ],
   "source": [
    "n_total_steps = len(train_loader)\n",
    "model_t_list = [model_i]\n",
    "for epoch in range(num_epochs):\n",
    "    for i, (images, labels) in enumerate(train_loader):  \n",
    "        images = images.reshape(-1, 28*28).to(device)\n",
    "        labels = labels.to(device)\n",
    "        # Forward pass\n",
    "        outputs = model(images)\n",
    "        loss = criterion(outputs, labels)\n",
    "        # Backward and optimize\n",
    "        optimizer.zero_grad()\n",
    "        loss.backward()\n",
    "        optimizer.step()\n",
    "        if (i+1)%20 == 0:\n",
    "            model_t_list.append(copy.deepcopy(model))\n",
    "        if (i+1) % 100 == 0:\n",
    "            print (f'Epoch [{epoch+1}/{num_epochs}], Step[{i+1}/{n_total_steps}], Loss: {loss.item():.4f}') "
   ]
  },
  {
   "cell_type": "code",
   "execution_count": 10,
   "id": "instructional-toner",
   "metadata": {},
   "outputs": [],
   "source": [
    "model_f = copy.deepcopy(model)\n",
    "model_t_list.append(model_f)"
   ]
  },
  {
   "cell_type": "code",
   "execution_count": 11,
   "id": "armed-location",
   "metadata": {},
   "outputs": [],
   "source": [
    "def evaluate_model_loss(model, data_loader):\n",
    "    with torch.no_grad():\n",
    "        loss = 0\n",
    "        n_iters = 0\n",
    "        for images, labels in data_loader:\n",
    "            images = images.reshape(-1, 28*28).to(device)\n",
    "            labels = labels.to(device)\n",
    "            outputs = model(images)\n",
    "            curr_loss = criterion(outputs, labels).item()\n",
    "            loss+=curr_loss*images.size(0)\n",
    "            _, predicted = torch.max(outputs.data, 1)\n",
    "            n_iters += 1\n",
    "        loss = loss/len(data_loader.sampler)\n",
    "#         print(f'Loss of the network: {loss} ') \n",
    "    return loss\n",
    "# loss = evaluate_model_loss(model, train_loader)"
   ]
  },
  {
   "cell_type": "markdown",
   "id": "quick-destination",
   "metadata": {},
   "source": [
    "### Linear interploate between initialized and converged models"
   ]
  },
  {
   "cell_type": "code",
   "execution_count": 13,
   "id": "comic-minimum",
   "metadata": {},
   "outputs": [],
   "source": [
    "import numpy as np\n",
    "def linear_interpolation(model_i,model_f,alpha,data_loader):\n",
    "    curr_model = NeuralNet(input_size, hidden_sizes, num_classes).to(device)\n",
    "    state_dict = curr_model.state_dict()\n",
    "    i_state_dict = model_i.state_dict()\n",
    "    f_state_dict = model_f.state_dict()\n",
    "    for (_,i_param),(_,f_param),(name,param) in zip(i_state_dict.items(), f_state_dict.items(), state_dict.items()):\n",
    "        state_dict[name].copy_((1-alpha)*i_param+alpha*f_param)\n",
    "    train_loss = evaluate_model_loss(curr_model, data_loader)\n",
    "    return train_loss\n",
    "\n",
    "x=[]\n",
    "y_train=[]\n",
    "y_test=[]\n",
    "for i in np.linspace(0,2,10):\n",
    "    x.append(i)\n",
    "    y_train.append(linear_interpolation(model_i,model_f,i,train_loader))\n",
    "    y_test.append(linear_interpolation(model_i,model_f,i,test_loader))"
   ]
  },
  {
   "cell_type": "code",
   "execution_count": 15,
   "id": "productive-wilson",
   "metadata": {},
   "outputs": [
    {
     "data": {
      "text/plain": [
       "Text(0.5, 1.0, 'Linear interpolation of ReLU on MNIST')"
      ]
     },
     "execution_count": 15,
     "metadata": {},
     "output_type": "execute_result"
    },
    {
     "data": {
      "image/png": "[encoded data removed]",
      "text/plain": [
       "<Figure size 432x288 with 1 Axes>"
      ]
     },
     "metadata": {
      "needs_background": "light"
     },
     "output_type": "display_data"
    }
   ],
   "source": [
    "import pylab\n",
    "pylab.plot(x, y_train, label=\"J($\\dot{\\Theta}$) on train\")\n",
    "pylab.plot(x, y_test, label=\"J($\\dot{\\Theta}$) on test\")\n",
    "pylab.legend()\n",
    "pylab.xlabel('alpha')\n",
    "pylab.ylabel(r\"J($\\dot{\\Theta}$)\")\n",
    "pylab.title('Linear interpolation of ReLU on MNIST')"
   ]
  },
  {
   "cell_type": "markdown",
   "id": "exposed-symphony",
   "metadata": {},
   "source": [
    "### How far is SGD from this monotonic decreasing path from init to final?"
   ]
  },
  {
   "cell_type": "code",
   "execution_count": 16,
   "id": "cross-signal",
   "metadata": {},
   "outputs": [
    {
     "data": {
      "text/plain": [
       "[<matplotlib.lines.Line2D at 0x7f78c06028b0>]"
      ]
     },
     "execution_count": 16,
     "metadata": {},
     "output_type": "execute_result"
    },
    {
     "data": {
      "image/png": "[encoded data removed]",
      "text/plain": [
       "<Figure size 432x288 with 1 Axes>"
      ]
     },
     "metadata": {
      "needs_background": "light"
     },
     "output_type": "display_data"
    }
   ],
   "source": [
    "import torch.nn.functional as F\n",
    "from torch.nn.utils import parameters_to_vector\n",
    "\n",
    "def compute_u(model_i, model_f):\n",
    "    i_params = parameters_to_vector(model_i.parameters())\n",
    "    f_params = parameters_to_vector(model_f.parameters())\n",
    "    minus_params = f_params-i_params\n",
    "    return F.normalize(minus_params,dim=0)\n",
    "    \n",
    "def alpha_beta(model_t,u, model_i):\n",
    "    i_params = parameters_to_vector(model_i.parameters())\n",
    "    t_params = parameters_to_vector(model_t.parameters())\n",
    "    \n",
    "    alpha = torch.dot((t_params-i_params),u)\n",
    "    v = t_params-(i_params+alpha*u)\n",
    "    v_normalized = F.normalize(v,dim=0)\n",
    "    beta = torch.dot(v,v)\n",
    "    return alpha, beta\n",
    "\n",
    "u = compute_u(model_i,model_f)\n",
    "alpha_list = []\n",
    "beta_list = []\n",
    "for model_t in model_t_list:\n",
    "    alpha, beta = alpha_beta(model_t, u, model_i)\n",
    "    alpha_list.append(alpha)\n",
    "    beta_list.append(beta)\n",
    "\n",
    "pylab.plot(alpha_list, beta_list)\n",
    "    "
   ]
  },
  {
   "cell_type": "code",
   "execution_count": null,
   "id": "steady-norwegian",
   "metadata": {},
   "outputs": [],
   "source": []
  }
 ],
 "metadata": {
  "kernelspec": {
   "display_name": "Python 3",
   "language": "python",
   "name": "python3"
  },
  "language_info": {
   "codemirror_mode": {
    "name": "ipython",
    "version": 3
   },
   "file_extension": ".py",
   "mimetype": "text/x-python",
   "name": "python",
   "nbconvert_exporter": "python",
   "pygments_lexer": "ipython3",
   "version": "3.8.8"
  }
 },
 "nbformat": 4,
 "nbformat_minor": 5
}
